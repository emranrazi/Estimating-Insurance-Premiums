{
  "nbformat": 4,
  "nbformat_minor": 0,
  "metadata": {
    "colab": {
      "provenance": []
    },
    "kernelspec": {
      "name": "python3",
      "display_name": "Python 3"
    },
    "language_info": {
      "name": "python"
    }
  },
  "cells": [
    {
      "cell_type": "code",
      "execution_count": null,
      "metadata": {
        "id": "lwhjs1hMgzDP"
      },
      "outputs": [],
      "source": [
        "import pandas as pd  # For data manipulation using DataFrames\n",
        "from sklearn.linear_model import LinearRegression  # For linear regression modeling\n",
        "import matplotlib.pyplot as plt  # For data visualization\n",
        "from sklearn.model_selection import train_test_split  # For splitting data into training and testing sets\n",
        "import warnings  # For handling warnings in Python\n",
        "from sklearn.tree import DecisionTreeRegressor  # For decision tree regression modeling\n",
        "from sklearn.preprocessing import LabelEncoder  # For encoding categorical variables\n",
        "from sklearn.neighbors import KNeighborsRegressor  # For K-nearest neighbors regression modeling\n"
      ]
    },
    {
      "cell_type": "code",
      "source": [
        "#Python function evaluation_function evaluates the performance of a regression model using various metrics:\n",
        "def evaluation_function(y, yhat):\n",
        "    ei = y - yhat\n",
        "\n",
        "    ei2 = ei ** 2\n",
        "\n",
        "    MSE = ei2.mean()\n",
        "    RMSE = MSE ** 0.5\n",
        "\n",
        "    ei_abs = ei.abs()\n",
        "    MAE = ei_abs.mean()\n",
        "\n",
        "    SSR = ((yhat - y.mean())**2).sum()\n",
        "    SST = ((y - y.mean())**2).sum()\n",
        "    R2 = SSR / SST\n",
        "\n",
        "    print(\"MSE: \", MSE)\n",
        "    print(\"RMSE: \", RMSE)\n",
        "    print(\"MAE: \", MAE)\n",
        "    print(\"R^2: \", R2)"
      ],
      "metadata": {
        "id": "TM89usUCkoNr"
      },
      "execution_count": null,
      "outputs": []
    },
    {
      "cell_type": "code",
      "source": [
        "#Linear Regression"
      ],
      "metadata": {
        "id": "7nDqhbMAY4s7"
      },
      "execution_count": null,
      "outputs": []
    },
    {
      "cell_type": "code",
      "source": [
        "insurance_data = pd.read_csv('ML Algorithms with Python Assignment (Data).csv')  # Reading the data from a CSV file and storing it in the variable 'insurance_data'"
      ],
      "metadata": {
        "id": "H4FZ4sXPkpIg"
      },
      "execution_count": null,
      "outputs": []
    },
    {
      "cell_type": "code",
      "source": [
        "missing_values = insurance_data.isnull().sum()  # Calculating the sum of missing values in each column\n",
        "missing_values[missing_values > 0]  # Displaying columns with missing values (where the count of missing values is greater than 0)"
      ],
      "metadata": {
        "colab": {
          "base_uri": "https://localhost:8080/"
        },
        "id": "t3X-PnAJktbp",
        "outputId": "9ae97de7-84ff-494c-c9f6-a29ecccc97f4"
      },
      "execution_count": null,
      "outputs": [
        {
          "output_type": "execute_result",
          "data": {
            "text/plain": [
              "Series([], dtype: int64)"
            ]
          },
          "metadata": {},
          "execution_count": 40
        }
      ]
    },
    {
      "cell_type": "code",
      "source": [
        "print(\"List of levels in region: \")  # Printing a message indicating the list of levels in the 'region' column\n",
        "print(insurance_data[\"region\"].unique())  # Displaying unique values present in the 'region' column"
      ],
      "metadata": {
        "colab": {
          "base_uri": "https://localhost:8080/"
        },
        "id": "jMUzJGsRky5Z",
        "outputId": "69b310e5-a3dc-475d-dded-5c280c480f8c"
      },
      "execution_count": null,
      "outputs": [
        {
          "output_type": "stream",
          "name": "stdout",
          "text": [
            "List of levels in region: \n",
            "['southwest' 'southeast' 'northwest' 'northeast']\n"
          ]
        }
      ]
    },
    {
      "cell_type": "code",
      "source": [
        "X_total = insurance_data.drop(columns='charges')  # Creating a DataFrame 'X_total' excluding the 'charges' column\n",
        "y_total = insurance_data['charges']  # Creating a Series 'y_total' containing only the 'charges' column data"
      ],
      "metadata": {
        "id": "JQFAi5lxk45g"
      },
      "execution_count": null,
      "outputs": []
    },
    {
      "cell_type": "code",
      "source": [
        "categorical_columns = ['sex', 'region', 'smoker']  # Defining a list of categorical columns\n",
        "X_total_encoded = pd.get_dummies(X_total, columns=categorical_columns, drop_first=True)\n",
        "# Creating encoded dummy variables for categorical columns in 'X_total' and storing in 'X_total_encoded'\n",
        "# 'drop_first=True' drops the first level of each categorical variable to avoid multicollinearity"
      ],
      "metadata": {
        "id": "d9TnC09Tk-jw"
      },
      "execution_count": null,
      "outputs": []
    },
    {
      "cell_type": "code",
      "source": [
        "X_train, X_test, y_train, y_test = train_test_split(X_total_encoded, y_total, test_size=0.2, random_state=42)\n",
        "# Splitting the data into training and testing sets: X_train, X_test, y_train, y_test\n",
        "# 'test_size=0.2' specifies the proportion of the dataset to include in the test split\n",
        "# 'random_state=42' sets the seed for random shuffling and ensures reproducibility"
      ],
      "metadata": {
        "id": "4lLbl8MnlAwF"
      },
      "execution_count": null,
      "outputs": []
    },
    {
      "cell_type": "code",
      "source": [
        "model_insurance = LinearRegression()  # Creating an instance of Linear Regression model\n",
        "\n",
        "model_insurance.fit(X_train, y_train)  # Fitting the model using training data X_train and y_train\n",
        "\n",
        "print(\"Slopes: \", model_insurance.coef_)  # Displaying the coefficients (slopes)\n",
        "print(\"Intercept: \", model_insurance.intercept_)  # Displaying the intercept of the model"
      ],
      "metadata": {
        "colab": {
          "base_uri": "https://localhost:8080/"
        },
        "id": "h_OUAnDWlDPY",
        "outputId": "26836338-cab6-4614-c71f-e1bc258fff84"
      },
      "execution_count": null,
      "outputs": [
        {
          "output_type": "stream",
          "name": "stdout",
          "text": [
            "Slopes:  [ 2.56975706e+02  3.37092552e+02  4.25278784e+02 -1.85916916e+01\n",
            " -3.70677326e+02 -6.57864297e+02 -8.09799354e+02  2.36511289e+04]\n",
            "Intercept:  -11931.21905032667\n"
          ]
        }
      ]
    },
    {
      "cell_type": "code",
      "source": [
        "y_test_hat = model_insurance.predict(X_test)  # Generating predictions for the test set using the trained model\n",
        "y_train_hat = model_insurance.predict(X_train)  # Generating predictions for the training set using the trained model"
      ],
      "metadata": {
        "id": "tN-7WaiDlGFb"
      },
      "execution_count": null,
      "outputs": []
    },
    {
      "cell_type": "code",
      "source": [
        "print(\"Evaluation for the testing data: \")\n",
        "evaluation_function(y_test, y_test_hat)  # Evaluating model performance on the testing data\n",
        "\n",
        "print(\"Evaluation for the training data: \")\n",
        "evaluation_function(y_train, y_train_hat)  # Evaluating model performance on the training data"
      ],
      "metadata": {
        "colab": {
          "base_uri": "https://localhost:8080/"
        },
        "id": "-4A3nlhqlJHB",
        "outputId": "9d86a898-810a-4b81-ffc0-26477b18e708"
      },
      "execution_count": null,
      "outputs": [
        {
          "output_type": "stream",
          "name": "stdout",
          "text": [
            "Evaluation for the testing data: \n",
            "MSE:  33596915.85136143\n",
            "RMSE:  5796.284659276271\n",
            "MAE:  4181.194473753648\n",
            "R^2:  0.7435552543909298\n",
            "Evaluation for the training data: \n",
            "MSE:  37277681.70201866\n",
            "RMSE:  6105.545160099847\n",
            "MAE:  4208.234572492225\n",
            "R^2:  0.7417255854683346\n"
          ]
        }
      ]
    },
    {
      "cell_type": "code",
      "source": [
        "plt.scatter(y_test, y_test_hat, color='blue', label='Actual vs. Predicted')  # Plotting actual vs. predicted values\n",
        "plt.plot([min(y_test), max(y_test)], [min(y_test), max(y_test)], color='red', linestyle='--', linewidth=2, label='Perfect Prediction')  # Adding a perfect prediction line\n",
        "\n",
        "plt.title(\"Actual vs. Predicted Charges (Linear Regression)\")  # Setting the title of the plot\n",
        "plt.xlabel(\"Actual Charges\")  # Setting the label for the x-axis\n",
        "plt.ylabel(\"Predicted Charges\")  # Setting the label for the y-axis\n",
        "plt.legend()  # Displaying the legend for the plot\n",
        "plt.show()  # Showing the plot"
      ],
      "metadata": {
        "colab": {
          "base_uri": "https://localhost:8080/",
          "height": 472
        },
        "id": "M04padhAlLRR",
        "outputId": "eea3cc2f-286e-49d0-ef0e-95b6b1d4b875"
      },
      "execution_count": null,
      "outputs": [
        {
          "output_type": "display_data",
          "data": {
            "text/plain": [
              "<Figure size 640x480 with 1 Axes>"
            ],
            "image/png": "[encoded data removed]"
          },
          "metadata": {}
        }
      ]
    },
    {
      "cell_type": "code",
      "source": [],
      "metadata": {
        "id": "bMkG7ZmwlNy4"
      },
      "execution_count": null,
      "outputs": []
    },
    {
      "cell_type": "code",
      "source": [
        "# Quadratic Regression Model"
      ],
      "metadata": {
        "id": "6CFaUG5XlSnp"
      },
      "execution_count": null,
      "outputs": []
    },
    {
      "cell_type": "code",
      "source": [
        "X_total_encoded = pd.get_dummies(X_total, columns=['sex', 'smoker', 'region'], drop_first=True)\n",
        "# Creating encoded dummy variables for specified categorical columns in 'X_total' and storing in 'X_total_encoded'\n",
        "# 'drop_first=True' drops the first level of each categorical variable to avoid multicollinearity"
      ],
      "metadata": {
        "id": "LRtSKCZtlTQ_"
      },
      "execution_count": null,
      "outputs": []
    },
    {
      "cell_type": "code",
      "source": [
        "X_total_encoded['age^2'] = X_total_encoded['age'] ** 2  # Creating a new feature 'age^2' by squaring the 'age' column\n",
        "X_total_encoded['bmi^2'] = X_total_encoded['bmi'] ** 2  # Creating a new feature 'bmi^2' by squaring the 'bmi' column\n",
        "X_total_encoded['children^2'] = X_total_encoded['children'] ** 2  # Creating a new feature 'children^2' by squaring the 'children' column"
      ],
      "metadata": {
        "id": "8D2M5jsQlVrw"
      },
      "execution_count": null,
      "outputs": []
    },
    {
      "cell_type": "code",
      "source": [
        "model_quadratic = LinearRegression()  # Creating an instance of Linear Regression model\n",
        "\n",
        "model_quadratic.fit(X_total_encoded, y_total)  # Fitting the model using the extended feature set X_total_encoded and y_total"
      ],
      "metadata": {
        "colab": {
          "base_uri": "https://localhost:8080/",
          "height": 74
        },
        "id": "AoX-ODETlXqf",
        "outputId": "f5e06adc-d2d9-4b2e-a839-0b0626dbe4fb"
      },
      "execution_count": null,
      "outputs": [
        {
          "output_type": "execute_result",
          "data": {
            "text/plain": [
              "LinearRegression()"
            ],
            "text/html": [
              "<style>#sk-container-id-3 {color: black;background-color: white;}#sk-container-id-3 pre{padding: 0;}#sk-container-id-3 div.sk-toggleable {background-color: white;}#sk-container-id-3 label.sk-toggleable__label {cursor: pointer;display: block;width: 100%;margin-bottom: 0;padding: 0.3em;box-sizing: border-box;text-align: center;}#sk-container-id-3 label.sk-toggleable__label-arrow:before {content: \"▸\";float: left;margin-right: 0.25em;color: #696969;}#sk-container-id-3 label.sk-toggleable__label-arrow:hover:before {color: black;}#sk-container-id-3 div.sk-estimator:hover label.sk-toggleable__label-arrow:before {color: black;}#sk-container-id-3 div.sk-toggleable__content {max-height: 0;max-width: 0;overflow: hidden;text-align: left;background-color: #f0f8ff;}#sk-container-id-3 div.sk-toggleable__content pre {margin: 0.2em;color: black;border-radius: 0.25em;background-color: #f0f8ff;}#sk-container-id-3 input.sk-toggleable__control:checked~div.sk-toggleable__content {max-height: 200px;max-width: 100%;overflow: auto;}#sk-container-id-3 input.sk-toggleable__control:checked~label.sk-toggleable__label-arrow:before {content: \"▾\";}#sk-container-id-3 div.sk-estimator input.sk-toggleable__control:checked~label.sk-toggleable__label {background-color: #d4ebff;}#sk-container-id-3 div.sk-label input.sk-toggleable__control:checked~label.sk-toggleable__label {background-color: #d4ebff;}#sk-container-id-3 input.sk-hidden--visually {border: 0;clip: rect(1px 1px 1px 1px);clip: rect(1px, 1px, 1px, 1px);height: 1px;margin: -1px;overflow: hidden;padding: 0;position: absolute;width: 1px;}#sk-container-id-3 div.sk-estimator {font-family: monospace;background-color: #f0f8ff;border: 1px dotted black;border-radius: 0.25em;box-sizing: border-box;margin-bottom: 0.5em;}#sk-container-id-3 div.sk-estimator:hover {background-color: #d4ebff;}#sk-container-id-3 div.sk-parallel-item::after {content: \"\";width: 100%;border-bottom: 1px solid gray;flex-grow: 1;}#sk-container-id-3 div.sk-label:hover label.sk-toggleable__label {background-color: #d4ebff;}#sk-container-id-3 div.sk-serial::before {content: \"\";position: absolute;border-left: 1px solid gray;box-sizing: border-box;top: 0;bottom: 0;left: 50%;z-index: 0;}#sk-container-id-3 div.sk-serial {display: flex;flex-direction: column;align-items: center;background-color: white;padding-right: 0.2em;padding-left: 0.2em;position: relative;}#sk-container-id-3 div.sk-item {position: relative;z-index: 1;}#sk-container-id-3 div.sk-parallel {display: flex;align-items: stretch;justify-content: center;background-color: white;position: relative;}#sk-container-id-3 div.sk-item::before, #sk-container-id-3 div.sk-parallel-item::before {content: \"\";position: absolute;border-left: 1px solid gray;box-sizing: border-box;top: 0;bottom: 0;left: 50%;z-index: -1;}#sk-container-id-3 div.sk-parallel-item {display: flex;flex-direction: column;z-index: 1;position: relative;background-color: white;}#sk-container-id-3 div.sk-parallel-item:first-child::after {align-self: flex-end;width: 50%;}#sk-container-id-3 div.sk-parallel-item:last-child::after {align-self: flex-start;width: 50%;}#sk-container-id-3 div.sk-parallel-item:only-child::after {width: 0;}#sk-container-id-3 div.sk-dashed-wrapped {border: 1px dashed gray;margin: 0 0.4em 0.5em 0.4em;box-sizing: border-box;padding-bottom: 0.4em;background-color: white;}#sk-container-id-3 div.sk-label label {font-family: monospace;font-weight: bold;display: inline-block;line-height: 1.2em;}#sk-container-id-3 div.sk-label-container {text-align: center;}#sk-container-id-3 div.sk-container {/* jupyter's `normalize.less` sets `[hidden] { display: none; }` but bootstrap.min.css set `[hidden] { display: none !important; }` so we also need the `!important` here to be able to override the default hidden behavior on the sphinx rendered scikit-learn.org. See: https://github.com/scikit-learn/scikit-learn/issues/21755 */display: inline-block !important;position: relative;}#sk-container-id-3 div.sk-text-repr-fallback {display: none;}</style><div id=\"sk-container-id-3\" class=\"sk-top-container\"><div class=\"sk-text-repr-fallback\"><pre>LinearRegression()</pre><b>In a Jupyter environment, please rerun this cell to show the HTML representation or trust the notebook. <br />On GitHub, the HTML representation is unable to render, please try loading this page with nbviewer.org.</b></div><div class=\"sk-container\" hidden><div class=\"sk-item\"><div class=\"sk-estimator sk-toggleable\"><input class=\"sk-toggleable__control sk-hidden--visually\" id=\"sk-estimator-id-3\" type=\"checkbox\" checked><label for=\"sk-estimator-id-3\" class=\"sk-toggleable__label sk-toggleable__label-arrow\">LinearRegression</label><div class=\"sk-toggleable__content\"><pre>LinearRegression()</pre></div></div></div></div></div>"
            ]
          },
          "metadata": {},
          "execution_count": 51
        }
      ]
    },
    {
      "cell_type": "code",
      "source": [
        "y_total_hat_quadratic = model_quadratic.predict(X_total_encoded)\n",
        "# Generating predictions for the entire dataset using the quadratic regression model and extended features"
      ],
      "metadata": {
        "id": "SbG_OxpzlZmY"
      },
      "execution_count": null,
      "outputs": []
    },
    {
      "cell_type": "code",
      "source": [
        "# Print the slopes (coefficients) and intercept of the model\n",
        "print(\"Slopes (Coefficients) for Quadratic Regression:\")\n",
        "print(model_quadratic.coef_)\n",
        "print(\"Intercept: \", model_quadratic.intercept_)"
      ],
      "metadata": {
        "colab": {
          "base_uri": "https://localhost:8080/"
        },
        "id": "t5VEiuENlccp",
        "outputId": "e9da91cf-e62a-447a-f3f8-086b13033d78"
      },
      "execution_count": null,
      "outputs": [
        {
          "output_type": "stream",
          "name": "stdout",
          "text": [
            "Slopes (Coefficients) for Quadratic Regression:\n",
            "[-8.68519501e+01  8.06232056e+02  1.25950045e+03 -1.35396435e+02\n",
            "  2.38431758e+04 -4.69526040e+02 -9.98691910e+02 -9.96296437e+02\n",
            "  4.30485199e+00 -7.50877496e+00 -1.80494344e+02]\n",
            "Intercept:  -13260.706358488322\n"
          ]
        }
      ]
    },
    {
      "cell_type": "code",
      "source": [
        "# Predictions on the total set for quadratic model\n",
        "y_total_hat_quadratic = model_quadratic.predict(X_total_encoded)\n",
        "\n",
        "# Evaluate the quadratic model\n",
        "print(\"\\nEvaluation for the quadratic model:\")\n",
        "evaluation_function(y_total, y_total_hat_quadratic)"
      ],
      "metadata": {
        "colab": {
          "base_uri": "https://localhost:8080/"
        },
        "id": "PhVY4gUfmxCY",
        "outputId": "2689d891-08fb-4489-988f-5248296f7aa5"
      },
      "execution_count": null,
      "outputs": [
        {
          "output_type": "stream",
          "name": "stdout",
          "text": [
            "\n",
            "Evaluation for the quadratic model:\n",
            "MSE:  35865742.462809674\n",
            "RMSE:  5988.801421220249\n",
            "MAE:  4210.67307152689\n",
            "R^2:  0.7552540918873276\n"
          ]
        }
      ]
    },
    {
      "cell_type": "code",
      "source": [],
      "metadata": {
        "id": "FVLlXWEkm0PH"
      },
      "execution_count": null,
      "outputs": []
    },
    {
      "cell_type": "code",
      "source": [
        "#Droping the categorical columns and perform a regression"
      ],
      "metadata": {
        "id": "O8Xzt9WBm3nl"
      },
      "execution_count": null,
      "outputs": []
    },
    {
      "cell_type": "code",
      "source": [
        "# Drop categorical columns\n",
        "X_total_numeric = X_total.drop(columns=['sex', 'smoker', 'region'])"
      ],
      "metadata": {
        "id": "9xC2w1Kem4MY"
      },
      "execution_count": null,
      "outputs": []
    },
    {
      "cell_type": "code",
      "source": [
        "X_train_numeric, X_test_numeric, y_train_numeric, y_test_numeric = train_test_split(\n",
        "    X_total_numeric, y_total, test_size=0.2, random_state=42\n",
        ")"
      ],
      "metadata": {
        "id": "YPdZtj12m54g"
      },
      "execution_count": null,
      "outputs": []
    },
    {
      "cell_type": "code",
      "source": [
        "# Train a linear regression model on numeric features\n",
        "model2 = LinearRegression()\n",
        "model2.fit(X_train_numeric, y_train_numeric)\n"
      ],
      "metadata": {
        "colab": {
          "base_uri": "https://localhost:8080/",
          "height": 74
        },
        "id": "YR3_H0Vvm8Wo",
        "outputId": "73c24e03-1a1f-4351-a6b6-889ab81a1943"
      },
      "execution_count": null,
      "outputs": [
        {
          "output_type": "execute_result",
          "data": {
            "text/plain": [
              "LinearRegression()"
            ],
            "text/html": [
              "<style>#sk-container-id-2 {color: black;background-color: white;}#sk-container-id-2 pre{padding: 0;}#sk-container-id-2 div.sk-toggleable {background-color: white;}#sk-container-id-2 label.sk-toggleable__label {cursor: pointer;display: block;width: 100%;margin-bottom: 0;padding: 0.3em;box-sizing: border-box;text-align: center;}#sk-container-id-2 label.sk-toggleable__label-arrow:before {content: \"▸\";float: left;margin-right: 0.25em;color: #696969;}#sk-container-id-2 label.sk-toggleable__label-arrow:hover:before {color: black;}#sk-container-id-2 div.sk-estimator:hover label.sk-toggleable__label-arrow:before {color: black;}#sk-container-id-2 div.sk-toggleable__content {max-height: 0;max-width: 0;overflow: hidden;text-align: left;background-color: #f0f8ff;}#sk-container-id-2 div.sk-toggleable__content pre {margin: 0.2em;color: black;border-radius: 0.25em;background-color: #f0f8ff;}#sk-container-id-2 input.sk-toggleable__control:checked~div.sk-toggleable__content {max-height: 200px;max-width: 100%;overflow: auto;}#sk-container-id-2 input.sk-toggleable__control:checked~label.sk-toggleable__label-arrow:before {content: \"▾\";}#sk-container-id-2 div.sk-estimator input.sk-toggleable__control:checked~label.sk-toggleable__label {background-color: #d4ebff;}#sk-container-id-2 div.sk-label input.sk-toggleable__control:checked~label.sk-toggleable__label {background-color: #d4ebff;}#sk-container-id-2 input.sk-hidden--visually {border: 0;clip: rect(1px 1px 1px 1px);clip: rect(1px, 1px, 1px, 1px);height: 1px;margin: -1px;overflow: hidden;padding: 0;position: absolute;width: 1px;}#sk-container-id-2 div.sk-estimator {font-family: monospace;background-color: #f0f8ff;border: 1px dotted black;border-radius: 0.25em;box-sizing: border-box;margin-bottom: 0.5em;}#sk-container-id-2 div.sk-estimator:hover {background-color: #d4ebff;}#sk-container-id-2 div.sk-parallel-item::after {content: \"\";width: 100%;border-bottom: 1px solid gray;flex-grow: 1;}#sk-container-id-2 div.sk-label:hover label.sk-toggleable__label {background-color: #d4ebff;}#sk-container-id-2 div.sk-serial::before {content: \"\";position: absolute;border-left: 1px solid gray;box-sizing: border-box;top: 0;bottom: 0;left: 50%;z-index: 0;}#sk-container-id-2 div.sk-serial {display: flex;flex-direction: column;align-items: center;background-color: white;padding-right: 0.2em;padding-left: 0.2em;position: relative;}#sk-container-id-2 div.sk-item {position: relative;z-index: 1;}#sk-container-id-2 div.sk-parallel {display: flex;align-items: stretch;justify-content: center;background-color: white;position: relative;}#sk-container-id-2 div.sk-item::before, #sk-container-id-2 div.sk-parallel-item::before {content: \"\";position: absolute;border-left: 1px solid gray;box-sizing: border-box;top: 0;bottom: 0;left: 50%;z-index: -1;}#sk-container-id-2 div.sk-parallel-item {display: flex;flex-direction: column;z-index: 1;position: relative;background-color: white;}#sk-container-id-2 div.sk-parallel-item:first-child::after {align-self: flex-end;width: 50%;}#sk-container-id-2 div.sk-parallel-item:last-child::after {align-self: flex-start;width: 50%;}#sk-container-id-2 div.sk-parallel-item:only-child::after {width: 0;}#sk-container-id-2 div.sk-dashed-wrapped {border: 1px dashed gray;margin: 0 0.4em 0.5em 0.4em;box-sizing: border-box;padding-bottom: 0.4em;background-color: white;}#sk-container-id-2 div.sk-label label {font-family: monospace;font-weight: bold;display: inline-block;line-height: 1.2em;}#sk-container-id-2 div.sk-label-container {text-align: center;}#sk-container-id-2 div.sk-container {/* jupyter's `normalize.less` sets `[hidden] { display: none; }` but bootstrap.min.css set `[hidden] { display: none !important; }` so we also need the `!important` here to be able to override the default hidden behavior on the sphinx rendered scikit-learn.org. See: https://github.com/scikit-learn/scikit-learn/issues/21755 */display: inline-block !important;position: relative;}#sk-container-id-2 div.sk-text-repr-fallback {display: none;}</style><div id=\"sk-container-id-2\" class=\"sk-top-container\"><div class=\"sk-text-repr-fallback\"><pre>LinearRegression()</pre><b>In a Jupyter environment, please rerun this cell to show the HTML representation or trust the notebook. <br />On GitHub, the HTML representation is unable to render, please try loading this page with nbviewer.org.</b></div><div class=\"sk-container\" hidden><div class=\"sk-item\"><div class=\"sk-estimator sk-toggleable\"><input class=\"sk-toggleable__control sk-hidden--visually\" id=\"sk-estimator-id-2\" type=\"checkbox\" checked><label for=\"sk-estimator-id-2\" class=\"sk-toggleable__label sk-toggleable__label-arrow\">LinearRegression</label><div class=\"sk-toggleable__content\"><pre>LinearRegression()</pre></div></div></div></div></div>"
            ]
          },
          "metadata": {},
          "execution_count": 25
        }
      ]
    },
    {
      "cell_type": "code",
      "source": [
        "# Predictions on the testing set\n",
        "y_test_hat_numeric = model2.predict(X_test_numeric)"
      ],
      "metadata": {
        "id": "37dtCHT7m-lI"
      },
      "execution_count": null,
      "outputs": []
    },
    {
      "cell_type": "code",
      "source": [
        "# Evaluate the numeric model\n",
        "print(\"Evaluation for the numeric model:\")\n",
        "evaluation_function(y_test_numeric, y_test_hat_numeric)"
      ],
      "metadata": {
        "colab": {
          "base_uri": "https://localhost:8080/"
        },
        "id": "yFdx3Mn1nBpA",
        "outputId": "dcd9ad66-20f3-4763-947d-2ebba9f6c858"
      },
      "execution_count": null,
      "outputs": [
        {
          "output_type": "stream",
          "name": "stdout",
          "text": [
            "Evaluation for the numeric model:\n",
            "MSE:  131201335.64669803\n",
            "RMSE:  11454.315153980095\n",
            "MAE:  9181.311632897381\n",
            "R^2:  0.09975754282966814\n"
          ]
        }
      ]
    },
    {
      "cell_type": "code",
      "source": [
        "\n",
        "#Piecewise Regression"
      ],
      "metadata": {
        "id": "zjh1AcRTnDmg"
      },
      "execution_count": null,
      "outputs": []
    },
    {
      "cell_type": "code",
      "source": [
        "print(insurance_data[\"sex\"].unique())  # Displaying unique values in the 'sex' column\n",
        "print(insurance_data[\"children\"].unique())  # Displaying unique values in the 'children' column\n",
        "print(insurance_data[\"smoker\"].unique())  # Displaying unique values in the 'smoker' column\n",
        "print(insurance_data[\"region\"].unique())  # Displaying unique values in the 'region' column"
      ],
      "metadata": {
        "colab": {
          "base_uri": "https://localhost:8080/"
        },
        "id": "nQArb-Y-nGPo",
        "outputId": "cb7a26b2-06f9-4bbb-a10e-b860eeb98e92"
      },
      "execution_count": null,
      "outputs": [
        {
          "output_type": "stream",
          "name": "stdout",
          "text": [
            "['female' 'male']\n",
            "[0 1 3 2 5 4]\n",
            "['yes' 'no']\n",
            "['southwest' 'southeast' 'northwest' 'northeast']\n"
          ]
        }
      ]
    },
    {
      "cell_type": "code",
      "source": [],
      "metadata": {
        "id": "kTIO9cEdnJEQ"
      },
      "execution_count": null,
      "outputs": []
    },
    {
      "cell_type": "code",
      "source": [
        "# Read the dataset\n",
        "insurance_data = pd.read_csv('ML Algorithms with Python Assignment (Data).csv')\n",
        "\n",
        "# Suppress warnings\n",
        "warnings.filterwarnings(\"ignore\")\n",
        "\n",
        "# Create a function to perform piecewise regression\n",
        "def piecewise_regression(data):\n",
        "    # Get unique combinations of 'sex', 'children', 'smoker', and 'region'\n",
        "    unique_combinations = data[['sex', 'children', 'smoker', 'region']].drop_duplicates()\n",
        "\n",
        "    # Initialize an empty list to store regression models\n",
        "    regression_models = []\n",
        "\n",
        "    # Loop through unique combinations and fit a regression model for each\n",
        "    for index, row in unique_combinations.iterrows():\n",
        "        subset = data[\n",
        "            (data['sex'] == row['sex']) &\n",
        "            (data['children'] == row['children']) &\n",
        "            (data['smoker'] == row['smoker']) &\n",
        "            (data['region'] == row['region'])\n",
        "        ]\n",
        "\n",
        "        X = subset[['age', 'bmi']]\n",
        "        y = subset['charges']\n",
        "\n",
        "        # Fit a linear regression model\n",
        "        model = LinearRegression()\n",
        "        model.fit(X, y)\n",
        "\n",
        "        # Append the model and combination to the list\n",
        "        regression_models.append((model, row))\n",
        "\n",
        "    return regression_models\n",
        "\n",
        "# Call the function to get regression models for each combination\n",
        "regression_models = piecewise_regression(insurance_data)\n",
        "\n",
        "# Create a function to predict using the combined model\n",
        "def combined_predict(model_list, data):\n",
        "    predictions = []\n",
        "\n",
        "    # Loop through the data and apply the appropriate model\n",
        "    for _, row in data.iterrows():\n",
        "        for model, conditions in model_list:\n",
        "            if (row['sex'] == conditions['sex']) and \\\n",
        "               (row['children'] == conditions['children']) and \\\n",
        "               (row['smoker'] == conditions['smoker']) and \\\n",
        "               (row['region'] == conditions['region']):\n",
        "                with warnings.catch_warnings():\n",
        "                    warnings.simplefilter(\"ignore\")\n",
        "                    predictions.append(model.predict([[row['age'], row['bmi']]])[0])\n",
        "                break\n",
        "\n",
        "    return predictions\n",
        "\n",
        "# Predict using the combined model\n",
        "combined_predictions = combined_predict(regression_models, insurance_data)\n",
        "\n",
        "# Evaluate the performance of the combined model\n",
        "evaluation_function(insurance_data['charges'], combined_predictions)\n"
      ],
      "metadata": {
        "colab": {
          "base_uri": "https://localhost:8080/"
        },
        "id": "vxmSc0lnnWhg",
        "outputId": "842d4a09-96d0-4e89-db90-f7c37279dd61"
      },
      "execution_count": null,
      "outputs": [
        {
          "output_type": "stream",
          "name": "stdout",
          "text": [
            "MSE:  18435908.6037365\n",
            "RMSE:  4293.705695985287\n",
            "MAE:  2508.702834669623\n",
            "R^2:  0.8741943458222606\n"
          ]
        }
      ]
    },
    {
      "cell_type": "code",
      "source": [],
      "metadata": {
        "id": "VD5UAL4fnZ5X"
      },
      "execution_count": null,
      "outputs": []
    },
    {
      "cell_type": "code",
      "source": [
        "#Decision Tree:"
      ],
      "metadata": {
        "id": "qC6vnhFCnaeI"
      },
      "execution_count": null,
      "outputs": []
    },
    {
      "cell_type": "code",
      "source": [
        "# Create a function to encode categorical variables\n",
        "def encode_categorical(data):\n",
        "    encoded_data = data.copy()\n",
        "    label_encoders = {}\n",
        "\n",
        "    categorical_cols = ['sex', 'smoker', 'region']\n",
        "\n",
        "    for col in categorical_cols:\n",
        "        label_encoders[col] = LabelEncoder()\n",
        "        encoded_data[col] = label_encoders[col].fit_transform(encoded_data[col])\n",
        "\n",
        "    return encoded_data, label_encoders\n",
        "\n",
        "# Encode categorical variables\n",
        "encoded_insurance_data, encoders = encode_categorical(insurance_data)\n",
        "\n",
        "# Create a function to perform Decision Tree regression\n",
        "def decision_tree_regression(data):\n",
        "    X = data[['age', 'bmi', 'sex', 'children', 'smoker', 'region']]\n",
        "    y = data['charges']\n",
        "\n",
        "    # Initialize Decision Tree Regressor\n",
        "    model = DecisionTreeRegressor(random_state=42)\n",
        "    model.fit(X, y)\n",
        "\n",
        "    return model\n",
        "\n",
        "# Call the function to get Decision Tree model\n",
        "decision_tree_model = decision_tree_regression(encoded_insurance_data)\n",
        "\n",
        "# Predict using Decision Tree model\n",
        "decision_tree_predictions = decision_tree_model.predict(encoded_insurance_data[['age', 'bmi', 'sex', 'children', 'smoker', 'region']])\n",
        "\n",
        "# Evaluate the performance of the Decision Tree model\n",
        "evaluation_function(encoded_insurance_data['charges'], decision_tree_predictions)"
      ],
      "metadata": {
        "colab": {
          "base_uri": "https://localhost:8080/"
        },
        "id": "ytUIHxAVna8I",
        "outputId": "a2b25f12-7069-4337-c6cf-ea94f27535d0"
      },
      "execution_count": null,
      "outputs": [
        {
          "output_type": "stream",
          "name": "stdout",
          "text": [
            "MSE:  195318.62719663917\n",
            "RMSE:  441.9486703188948\n",
            "MAE:  23.64917144992526\n",
            "R^2:  0.9986671561355761\n"
          ]
        }
      ]
    },
    {
      "cell_type": "code",
      "source": [],
      "metadata": {
        "id": "Wg3EkjEDnnpf"
      },
      "execution_count": null,
      "outputs": []
    },
    {
      "cell_type": "code",
      "source": [
        "#K-Nearest Neighbors (KNN):"
      ],
      "metadata": {
        "id": "vefO3QEmnpQS"
      },
      "execution_count": null,
      "outputs": []
    },
    {
      "cell_type": "code",
      "source": [
        "# Create a function to encode categorical variables\n",
        "def encode_categorical(data):\n",
        "    encoded_data = data.copy()\n",
        "    label_encoders = {}\n",
        "\n",
        "    categorical_cols = ['sex', 'smoker', 'region']\n",
        "\n",
        "    for col in categorical_cols:\n",
        "        label_encoders[col] = LabelEncoder()\n",
        "        encoded_data[col] = label_encoders[col].fit_transform(encoded_data[col])\n",
        "\n",
        "    return encoded_data, label_encoders\n",
        "\n",
        "# Encode categorical variables\n",
        "encoded_insurance_data, encoders = encode_categorical(insurance_data)\n",
        "\n",
        "# Create a function to perform KNN regression\n",
        "def knn_regression(data):\n",
        "    X = data[['age', 'bmi', 'sex', 'children', 'smoker', 'region']]\n",
        "    y = data['charges']\n",
        "\n",
        "    # Initialize KNN Regressor\n",
        "    model = KNeighborsRegressor(n_neighbors=5)\n",
        "    model.fit(X, y)\n",
        "\n",
        "    return model\n",
        "\n",
        "# Call the function to get KNN model\n",
        "knn_model = knn_regression(encoded_insurance_data)\n",
        "\n",
        "# Predict using KNN model\n",
        "knn_predictions = knn_model.predict(encoded_insurance_data[['age', 'bmi', 'sex', 'children', 'smoker', 'region']])\n",
        "\n",
        "# Evaluate the performance of the KNN model\n",
        "evaluation_function(encoded_insurance_data['charges'], knn_predictions)"
      ],
      "metadata": {
        "colab": {
          "base_uri": "https://localhost:8080/"
        },
        "id": "wfH42t60nrVX",
        "outputId": "142dac81-38a7-4cfa-e8db-1a812cedf3f2"
      },
      "execution_count": null,
      "outputs": [
        {
          "output_type": "stream",
          "name": "stdout",
          "text": [
            "MSE:  82773640.19792819\n",
            "RMSE:  9098.001989334152\n",
            "MAE:  6147.688959831689\n",
            "R^2:  0.3214153723512445\n"
          ]
        }
      ]
    },
    {
      "cell_type": "code",
      "source": [],
      "metadata": {
        "id": "ZVgiYs2dnuzI"
      },
      "execution_count": null,
      "outputs": []
    },
    {
      "cell_type": "code",
      "source": [
        "#Piecewise Regression (Unique Combinations)"
      ],
      "metadata": {
        "id": "gLMgWM72VCNk"
      },
      "execution_count": null,
      "outputs": []
    },
    {
      "cell_type": "code",
      "source": [
        "# Read the dataset\n",
        "insurance_data = pd.read_csv('ML Algorithms with Python Assignment (Data).csv')\n",
        "\n",
        "# Create a function to perform piecewise regression\n",
        "def piecewise_regression(data):\n",
        "    # Get unique combinations of 'sex', 'children', 'smoker', and 'region'\n",
        "    unique_combinations = data[['sex', 'children', 'smoker', 'region']].drop_duplicates()\n",
        "\n",
        "    # Initialize an empty dictionary to store regression models\n",
        "    regression_models = {}\n",
        "\n",
        "    # Loop through unique combinations and fit a regression model for each\n",
        "    for index, row in unique_combinations.iterrows():\n",
        "        subset = data[\n",
        "            (data['sex'] == row['sex']) &\n",
        "            (data['children'] == row['children']) &\n",
        "            (data['smoker'] == row['smoker']) &\n",
        "            (data['region'] == row['region'])\n",
        "        ]\n",
        "\n",
        "        X = subset[['age', 'bmi']]\n",
        "        y = subset['charges']\n",
        "\n",
        "        # Fit a linear regression model\n",
        "        model = LinearRegression()\n",
        "        model.fit(X, y)\n",
        "\n",
        "        # Store the model in the dictionary with the combination as the key\n",
        "        regression_models[tuple(row)] = model\n",
        "\n",
        "    return regression_models\n",
        "\n",
        "# Call the function to get regression models for each combination\n",
        "regression_models = piecewise_regression(insurance_data)\n",
        "\n",
        "# Evaluate the performance of each model\n",
        "for combination, model in regression_models.items():\n",
        "    print(f\"\\nEvaluation for combination {combination}:\")\n",
        "    yhat = model.predict(insurance_data[(insurance_data['sex'] == combination[0]) &\n",
        "                                         (insurance_data['children'] == combination[1]) &\n",
        "                                         (insurance_data['smoker'] == combination[2]) &\n",
        "                                         (insurance_data['region'] == combination[3])][['age', 'bmi']])\n",
        "    evaluation_function(insurance_data[(insurance_data['sex'] == combination[0]) &\n",
        "                                       (insurance_data['children'] == combination[1]) &\n",
        "                                       (insurance_data['smoker'] == combination[2]) &\n",
        "                                       (insurance_data['region'] == combination[3])]['charges'], yhat)\n"
      ],
      "metadata": {
        "colab": {
          "base_uri": "https://localhost:8080/"
        },
        "id": "4tjkDi15VTI4",
        "outputId": "7459437c-8dc4-48ae-d5c0-0a42aada9008"
      },
      "execution_count": null,
      "outputs": [
        {
          "output_type": "stream",
          "name": "stdout",
          "text": [
            "\n",
            "Evaluation for combination ('female', 0, 'yes', 'southwest'):\n",
            "MSE:  20714077.71510913\n",
            "RMSE:  4551.272098557625\n",
            "MAE:  3821.657901312335\n",
            "R^2:  0.8339233319031729\n",
            "\n",
            "Evaluation for combination ('male', 1, 'no', 'southeast'):\n",
            "MSE:  32379843.04593339\n",
            "RMSE:  5690.328904899381\n",
            "MAE:  3400.516353599067\n",
            "R^2:  0.2172948787140789\n",
            "\n",
            "Evaluation for combination ('male', 3, 'no', 'southeast'):\n",
            "MSE:  15243202.591216205\n",
            "RMSE:  3904.254421937203\n",
            "MAE:  2309.381959121751\n",
            "R^2:  0.5449661147678004\n",
            "\n",
            "Evaluation for combination ('male', 0, 'no', 'northwest'):\n",
            "MSE:  19268775.93052978\n",
            "RMSE:  4389.62138806182\n",
            "MAE:  2348.02744391676\n",
            "R^2:  0.45860055792456483\n",
            "\n",
            "Evaluation for combination ('female', 0, 'no', 'southeast'):\n",
            "MSE:  22614709.18113956\n",
            "RMSE:  4755.492527713565\n",
            "MAE:  2937.377294056367\n",
            "R^2:  0.48716946837420894\n",
            "\n",
            "Evaluation for combination ('female', 1, 'no', 'southeast'):\n",
            "MSE:  17024294.89944509\n",
            "RMSE:  4126.050763071765\n",
            "MAE:  2438.015847281034\n",
            "R^2:  0.41103726853307415\n",
            "\n",
            "Evaluation for combination ('female', 3, 'no', 'northwest'):\n",
            "MSE:  16502227.249555679\n",
            "RMSE:  4062.2933485354893\n",
            "MAE:  2758.5770784090982\n",
            "R^2:  0.2249626269039429\n",
            "\n",
            "Evaluation for combination ('male', 2, 'no', 'northeast'):\n",
            "MSE:  67165981.90198536\n",
            "RMSE:  8195.485458591538\n",
            "MAE:  6490.935420250487\n",
            "R^2:  0.123458358809518\n",
            "\n",
            "Evaluation for combination ('female', 0, 'no', 'northwest'):\n",
            "MSE:  4915074.109899249\n",
            "RMSE:  2216.9966418331014\n",
            "MAE:  884.2780712839399\n",
            "R^2:  0.819902156344465\n",
            "\n",
            "Evaluation for combination ('male', 0, 'no', 'northeast'):\n",
            "MSE:  9734790.547348408\n",
            "RMSE:  3120.0625870883437\n",
            "MAE:  1588.2705069977412\n",
            "R^2:  0.7163475520473491\n",
            "\n",
            "Evaluation for combination ('female', 0, 'yes', 'southeast'):\n",
            "MSE:  22731804.03787409\n",
            "RMSE:  4767.788170407122\n",
            "MAE:  4085.2039782910824\n",
            "R^2:  0.8232985808364819\n",
            "\n",
            "Evaluation for combination ('male', 0, 'no', 'southwest'):\n",
            "MSE:  22724604.28214459\n",
            "RMSE:  4767.033069126393\n",
            "MAE:  2842.0265380057235\n",
            "R^2:  0.4485015156675599\n",
            "\n",
            "Evaluation for combination ('male', 0, 'yes', 'southeast'):\n",
            "MSE:  59094879.42121382\n",
            "RMSE:  7687.319391128081\n",
            "MAE:  4876.17580079818\n",
            "R^2:  0.5890343091791791\n",
            "\n",
            "Evaluation for combination ('male', 1, 'no', 'southwest'):\n",
            "MSE:  2669917.9169940674\n",
            "RMSE:  1633.9883466518565\n",
            "MAE:  708.3855975971279\n",
            "R^2:  0.800005026342344\n",
            "\n",
            "Evaluation for combination ('female', 1, 'no', 'northeast'):\n",
            "MSE:  39116310.28392531\n",
            "RMSE:  6254.303341214376\n",
            "MAE:  4820.701433140617\n",
            "R^2:  0.1776775158741131\n",
            "\n",
            "Evaluation for combination ('male', 0, 'yes', 'southwest'):\n",
            "MSE:  26270663.062080484\n",
            "RMSE:  5125.49149468424\n",
            "MAE:  4006.7232609461116\n",
            "R^2:  0.7684661608444144\n",
            "\n",
            "Evaluation for combination ('female', 0, 'no', 'northeast'):\n",
            "MSE:  16334017.09838488\n",
            "RMSE:  4041.5364774284644\n",
            "MAE:  2295.508905197065\n",
            "R^2:  0.5239788994664311\n",
            "\n",
            "Evaluation for combination ('female', 1, 'no', 'southwest'):\n",
            "MSE:  27155194.78976918\n",
            "RMSE:  5211.064650315632\n",
            "MAE:  3194.67342478056\n",
            "R^2:  0.4273518140649104\n",
            "\n",
            "Evaluation for combination ('male', 0, 'no', 'southeast'):\n",
            "MSE:  13338601.500943668\n",
            "RMSE:  3652.2050190184655\n",
            "MAE:  1779.9036352528278\n",
            "R^2:  0.5986455778895663\n",
            "\n",
            "Evaluation for combination ('female', 1, 'yes', 'northeast'):\n",
            "MSE:  33595345.77345038\n",
            "RMSE:  5796.149219391301\n",
            "MAE:  4261.830229414779\n",
            "R^2:  0.8326146435107992\n",
            "\n",
            "Evaluation for combination ('male', 2, 'no', 'northwest'):\n",
            "MSE:  44851065.46594018\n",
            "RMSE:  6697.093807461575\n",
            "MAE:  5042.756424077711\n",
            "R^2:  0.12780184526345484\n",
            "\n",
            "Evaluation for combination ('female', 3, 'no', 'southeast'):\n",
            "MSE:  22977833.773165513\n",
            "RMSE:  4793.519977340818\n",
            "MAE:  3872.169474041651\n",
            "R^2:  0.4021993496161978\n",
            "\n",
            "Evaluation for combination ('female', 2, 'no', 'northwest'):\n",
            "MSE:  42348422.50775867\n",
            "RMSE:  6507.56655807366\n",
            "MAE:  4584.001903173481\n",
            "R^2:  0.11975084921109791\n",
            "\n",
            "Evaluation for combination ('male', 1, 'no', 'northwest'):\n",
            "MSE:  17992479.22031666\n",
            "RMSE:  4241.754262132197\n",
            "MAE:  2491.35476829344\n",
            "R^2:  0.5342196504463088\n",
            "\n",
            "Evaluation for combination ('male', 2, 'yes', 'southwest'):\n",
            "MSE:  12071098.868157944\n",
            "RMSE:  3474.3486969729943\n",
            "MAE:  2938.3530498191294\n",
            "R^2:  0.5897538941511349\n",
            "\n",
            "Evaluation for combination ('female', 5, 'no', 'southwest'):\n",
            "MSE:  1.3786343542550462e-24\n",
            "RMSE:  1.1741526111434774e-12\n",
            "MAE:  9.094947017729282e-13\n",
            "R^2:  0.9999999999999992\n",
            "\n",
            "Evaluation for combination ('male', 1, 'yes', 'southwest'):\n",
            "MSE:  1857203.9306357554\n",
            "RMSE:  1362.7926954000582\n",
            "MAE:  1143.0308098616958\n",
            "R^2:  0.990356137032872\n",
            "\n",
            "Evaluation for combination ('male', 1, 'yes', 'northeast'):\n",
            "MSE:  12156836.674742544\n",
            "RMSE:  3486.6655524644952\n",
            "MAE:  3059.4068144104726\n",
            "R^2:  0.8538761399229281\n",
            "\n",
            "Evaluation for combination ('female', 2, 'no', 'southeast'):\n",
            "MSE:  173991.83429481526\n",
            "RMSE:  417.1232842875296\n",
            "MAE:  361.58936864139406\n",
            "R^2:  0.9806236989622922\n",
            "\n",
            "Evaluation for combination ('male', 1, 'no', 'northeast'):\n",
            "MSE:  17520625.61129723\n",
            "RMSE:  4185.764638784321\n",
            "MAE:  2516.320523335816\n",
            "R^2:  0.2091569555747774\n",
            "\n",
            "Evaluation for combination ('female', 2, 'no', 'northeast'):\n",
            "MSE:  35957543.478068106\n",
            "RMSE:  5996.460912744125\n",
            "MAE:  4275.7705624352975\n",
            "R^2:  0.12434736780708172\n",
            "\n",
            "Evaluation for combination ('male', 1, 'yes', 'southeast'):\n",
            "MSE:  24621682.494789265\n",
            "RMSE:  4962.024032064865\n",
            "MAE:  4121.974152029898\n",
            "R^2:  0.7433703788667341\n",
            "\n",
            "Evaluation for combination ('male', 2, 'yes', 'northwest'):\n",
            "MSE:  2849926.392419089\n",
            "RMSE:  1688.172500788675\n",
            "MAE:  1516.4941409466358\n",
            "R^2:  0.9802083115014828\n",
            "\n",
            "Evaluation for combination ('male', 2, 'yes', 'southeast'):\n",
            "MSE:  13413609.540472\n",
            "RMSE:  3662.459493355797\n",
            "MAE:  3181.4113405762187\n",
            "R^2:  0.8541080545656573\n",
            "\n",
            "Evaluation for combination ('female', 1, 'yes', 'southeast'):\n",
            "MSE:  2055267.440614381\n",
            "RMSE:  1433.6203962745442\n",
            "MAE:  1183.7473984159908\n",
            "R^2:  0.9744189826878299\n",
            "\n",
            "Evaluation for combination ('male', 3, 'no', 'northeast'):\n",
            "MSE:  93697.69783890678\n",
            "RMSE:  306.10079686094707\n",
            "MAE:  258.96961498047426\n",
            "R^2:  0.9836239733247969\n",
            "\n",
            "Evaluation for combination ('male', 4, 'no', 'southeast'):\n",
            "MSE:  2.0679515313825692e-24\n",
            "RMSE:  1.4380373887290168e-12\n",
            "MAE:  1.3642420526593924e-12\n",
            "R^2:  1.0000000000000002\n",
            "\n",
            "Evaluation for combination ('female', 1, 'no', 'northwest'):\n",
            "MSE:  25944210.996380575\n",
            "RMSE:  5093.5460139651805\n",
            "MAE:  2706.0938884009356\n",
            "R^2:  0.32849396628973815\n",
            "\n",
            "Evaluation for combination ('female', 0, 'yes', 'northwest'):\n",
            "MSE:  35285765.03403573\n",
            "RMSE:  5940.182239126652\n",
            "MAE:  5180.9211787912745\n",
            "R^2:  0.6968013713438644\n",
            "\n",
            "Evaluation for combination ('female', 0, 'no', 'southwest'):\n",
            "MSE:  7439124.498380944\n",
            "RMSE:  2727.475847442273\n",
            "MAE:  1406.434149229805\n",
            "R^2:  0.6609355628688952\n",
            "\n",
            "Evaluation for combination ('female', 2, 'no', 'southwest'):\n",
            "MSE:  32987672.19320815\n",
            "RMSE:  5743.4895484546805\n",
            "MAE:  3204.943396150671\n",
            "R^2:  0.31748273439282376\n",
            "\n",
            "Evaluation for combination ('male', 3, 'yes', 'southeast'):\n",
            "MSE:  3824295.354237835\n",
            "RMSE:  1955.5805670536397\n",
            "MAE:  1601.3137136900048\n",
            "R^2:  0.9747237424743082\n",
            "\n",
            "Evaluation for combination ('male', 5, 'no', 'northeast'):\n",
            "MSE:  1.3786343542550462e-24\n",
            "RMSE:  1.1741526111434774e-12\n",
            "MAE:  9.094947017729282e-13\n",
            "R^2:  0.9999999999999996\n",
            "\n",
            "Evaluation for combination ('female', 3, 'no', 'southwest'):\n",
            "MSE:  113714.07972480607\n",
            "RMSE:  337.21518311725833\n",
            "MAE:  277.74408705689405\n",
            "R^2:  0.9862751085025632\n",
            "\n",
            "Evaluation for combination ('male', 2, 'no', 'southwest'):\n",
            "MSE:  2286340.466307524\n",
            "RMSE:  1512.0649676212738\n",
            "MAE:  932.1243031690162\n",
            "R^2:  0.7305625328724854\n",
            "\n",
            "Evaluation for combination ('female', 4, 'no', 'northwest'):\n",
            "MSE:  0.0\n",
            "RMSE:  0.0\n",
            "MAE:  0.0\n",
            "R^2:  1.0\n",
            "\n",
            "Evaluation for combination ('female', 2, 'yes', 'southwest'):\n",
            "MSE:  25391195.513610963\n",
            "RMSE:  5038.967703172046\n",
            "MAE:  4692.009473964963\n",
            "R^2:  0.7915246175296591\n",
            "\n",
            "Evaluation for combination ('male', 3, 'yes', 'northeast'):\n",
            "MSE:  10030744.536675548\n",
            "RMSE:  3167.135067640082\n",
            "MAE:  2743.057764851755\n",
            "R^2:  0.8415210087684242\n",
            "\n",
            "Evaluation for combination ('male', 0, 'yes', 'northeast'):\n",
            "MSE:  31603250.916994333\n",
            "RMSE:  5621.676877675764\n",
            "MAE:  4494.212563670883\n",
            "R^2:  0.686407705869744\n",
            "\n",
            "Evaluation for combination ('female', 3, 'yes', 'southeast'):\n",
            "MSE:  17645483.021216486\n",
            "RMSE:  4200.652689906235\n",
            "MAE:  3760.0591416988186\n",
            "R^2:  0.7505818427321396\n",
            "\n",
            "Evaluation for combination ('male', 1, 'yes', 'northwest'):\n",
            "MSE:  267437.1762933734\n",
            "RMSE:  517.1432841035194\n",
            "MAE:  453.9027902850183\n",
            "R^2:  0.9886994280943521\n",
            "\n",
            "Evaluation for combination ('female', 2, 'yes', 'northwest'):\n",
            "MSE:  3040149.1765757008\n",
            "RMSE:  1743.6023562084622\n",
            "MAE:  1403.5061190817505\n",
            "R^2:  0.9401378081991747\n",
            "\n",
            "Evaluation for combination ('male', 3, 'yes', 'northwest'):\n",
            "MSE:  12897310.557238989\n",
            "RMSE:  3591.282578305276\n",
            "MAE:  3129.314653454939\n",
            "R^2:  0.8970082185164376\n",
            "\n",
            "Evaluation for combination ('female', 3, 'no', 'northeast'):\n",
            "MSE:  47681.096142420414\n",
            "RMSE:  218.36001498081194\n",
            "MAE:  186.70044984284883\n",
            "R^2:  0.9938132791649289\n",
            "\n",
            "Evaluation for combination ('female', 0, 'yes', 'northeast'):\n",
            "MSE:  2155667.1262048474\n",
            "RMSE:  1468.2190320946147\n",
            "MAE:  1093.9545000861492\n",
            "R^2:  0.9809356856041899\n",
            "\n",
            "Evaluation for combination ('male', 4, 'no', 'northeast'):\n",
            "MSE:  1912949.1182913329\n",
            "RMSE:  1383.0940381229805\n",
            "MAE:  1337.41903046256\n",
            "R^2:  0.8781087201807355\n",
            "\n",
            "Evaluation for combination ('male', 2, 'no', 'southeast'):\n",
            "MSE:  17142122.43960394\n",
            "RMSE:  4140.30463125649\n",
            "MAE:  2482.758383177259\n",
            "R^2:  0.27739993373320987\n",
            "\n",
            "Evaluation for combination ('male', 2, 'yes', 'northeast'):\n",
            "MSE:  1.8749427217868628e-23\n",
            "RMSE:  4.330060879233527e-12\n",
            "MAE:  4.244308608273665e-12\n",
            "R^2:  1.0000000000000002\n",
            "\n",
            "Evaluation for combination ('male', 4, 'no', 'northwest'):\n",
            "MSE:  1.1029074834040368e-24\n",
            "RMSE:  1.050194021790277e-12\n",
            "MAE:  6.063298011819521e-13\n",
            "R^2:  0.9999999999999994\n",
            "\n",
            "Evaluation for combination ('male', 3, 'no', 'southwest'):\n",
            "MSE:  10935212.276883235\n",
            "RMSE:  3306.843249518071\n",
            "MAE:  2036.373195556006\n",
            "R^2:  0.7186972180951923\n",
            "\n",
            "Evaluation for combination ('female', 2, 'yes', 'southeast'):\n",
            "MSE:  1058067.5303402147\n",
            "RMSE:  1028.6240957415953\n",
            "MAE:  992.1782621784805\n",
            "R^2:  0.990378451955724\n",
            "\n",
            "Evaluation for combination ('male', 0, 'yes', 'northwest'):\n",
            "MSE:  14249141.22376761\n",
            "RMSE:  3774.8034682308444\n",
            "MAE:  3529.082810845569\n",
            "R^2:  0.8609280028391904\n",
            "\n",
            "Evaluation for combination ('female', 2, 'yes', 'northeast'):\n",
            "MSE:  984414.3628753269\n",
            "RMSE:  992.1765784754883\n",
            "MAE:  939.9708438165939\n",
            "R^2:  0.9932417942728328\n",
            "\n",
            "Evaluation for combination ('female', 3, 'yes', 'northeast'):\n",
            "MSE:  91600.50254029424\n",
            "RMSE:  302.6557492272272\n",
            "MAE:  243.82094419302666\n",
            "R^2:  0.9990662213906429\n",
            "\n",
            "Evaluation for combination ('female', 4, 'no', 'northeast'):\n",
            "MSE:  3.3043108202784944e-21\n",
            "RMSE:  5.748313509437785e-11\n",
            "MAE:  4.486840528746446e-11\n",
            "R^2:  0.9999999999999982\n",
            "\n",
            "Evaluation for combination ('female', 1, 'yes', 'southwest'):\n",
            "MSE:  1.102907483404037e-22\n",
            "RMSE:  1.0501940217902771e-11\n",
            "MAE:  6.063298011819522e-12\n",
            "R^2:  1.0000000000000016\n",
            "\n",
            "Evaluation for combination ('female', 4, 'no', 'southeast'):\n",
            "MSE:  4.7700748657224594e-23\n",
            "RMSE:  6.906572859039756e-12\n",
            "MAE:  4.547473508864641e-12\n",
            "R^2:  0.9999999999999994\n",
            "\n",
            "Evaluation for combination ('male', 3, 'no', 'northwest'):\n",
            "MSE:  18209034.404927116\n",
            "RMSE:  4267.204518760159\n",
            "MAE:  2533.753303472907\n",
            "R^2:  0.5302557379346147\n",
            "\n",
            "Evaluation for combination ('male', 5, 'no', 'southwest'):\n",
            "MSE:  4589.589456306931\n",
            "RMSE:  67.74650881268298\n",
            "MAE:  51.259619745560485\n",
            "R^2:  0.9987947976603071\n",
            "\n",
            "Evaluation for combination ('male', 5, 'no', 'southeast'):\n",
            "MSE:  6.2259127438157886e-21\n",
            "RMSE:  7.890445325718815e-11\n",
            "MAE:  7.700388475010793e-11\n",
            "R^2:  0.9999999999999907\n",
            "\n",
            "Evaluation for combination ('female', 5, 'no', 'southeast'):\n",
            "MSE:  1.1029074834040368e-24\n",
            "RMSE:  1.050194021790277e-12\n",
            "MAE:  6.063298011819521e-13\n",
            "R^2:  1.0000000000000007\n",
            "\n",
            "Evaluation for combination ('male', 4, 'no', 'southwest'):\n",
            "MSE:  2.0679515313825692e-24\n",
            "RMSE:  1.4380373887290168e-12\n",
            "MAE:  1.3642420526593924e-12\n",
            "R^2:  1.0000000000000038\n",
            "\n",
            "Evaluation for combination ('male', 3, 'yes', 'southwest'):\n",
            "MSE:  52111.65748006412\n",
            "RMSE:  228.2797789557019\n",
            "MAE:  217.60614159365068\n",
            "R^2:  0.9945447812054213\n",
            "\n",
            "Evaluation for combination ('male', 4, 'yes', 'southwest'):\n",
            "MSE:  2.6469779601696886e-23\n",
            "RMSE:  5.1448789686149945e-12\n",
            "MAE:  3.637978807091713e-12\n",
            "R^2:  0.9999999999999992\n",
            "\n",
            "Evaluation for combination ('female', 3, 'yes', 'northwest'):\n",
            "MSE:  2272622.9897495317\n",
            "RMSE:  1507.5221357411413\n",
            "MAE:  1188.8586052718829\n",
            "R^2:  0.9867686637124\n",
            "\n",
            "Evaluation for combination ('female', 1, 'yes', 'northwest'):\n",
            "MSE:  1325616.3407388886\n",
            "RMSE:  1151.3541335049301\n",
            "MAE:  1113.686313751533\n",
            "R^2:  0.985834685452732\n",
            "\n",
            "Evaluation for combination ('female', 5, 'no', 'northwest'):\n",
            "MSE:  0.0\n",
            "RMSE:  0.0\n",
            "MAE:  0.0\n",
            "R^2:  nan\n",
            "\n",
            "Evaluation for combination ('female', 4, 'no', 'southwest'):\n",
            "MSE:  1.434882635908652e-21\n",
            "RMSE:  3.787984471864493e-11\n",
            "MAE:  3.456079866737127e-11\n",
            "R^2:  0.9999999999999938\n",
            "\n",
            "Evaluation for combination ('female', 5, 'yes', 'southwest'):\n",
            "MSE:  0.0\n",
            "RMSE:  0.0\n",
            "MAE:  0.0\n",
            "R^2:  nan\n",
            "\n",
            "Evaluation for combination ('male', 4, 'yes', 'northwest'):\n",
            "MSE:  0.0\n",
            "RMSE:  0.0\n",
            "MAE:  0.0\n",
            "R^2:  nan\n"
          ]
        }
      ]
    }
  ]
}